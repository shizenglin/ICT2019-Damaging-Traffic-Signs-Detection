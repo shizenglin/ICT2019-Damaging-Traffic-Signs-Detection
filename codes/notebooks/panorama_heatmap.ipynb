{
 "cells": [
  {
   "cell_type": "code",
   "execution_count": null,
   "metadata": {},
   "outputs": [],
   "source": [
    "import pandas as pd\n",
    "from tqdm import tqdm\n",
    "from matplotlib import pyplot as plt\n",
    "%matplotlib inline\n",
    "import numpy as np\n",
    "from PIL import Image"
   ]
  },
  {
   "cell_type": "code",
   "execution_count": null,
   "metadata": {},
   "outputs": [],
   "source": [
    "annotations = pd.read_csv('../final_clean/datasets/BAM_data/BAM_annotations_final.csv')"
   ]
  },
  {
   "cell_type": "code",
   "execution_count": null,
   "metadata": {},
   "outputs": [],
   "source": [
    "annotations[['panorama_xmin', 'panorama_xmax']] *= 1920\n",
    "annotations[['panorama_ymin', 'panorama_ymax']] *= 1080"
   ]
  },
  {
   "cell_type": "code",
   "execution_count": null,
   "metadata": {},
   "outputs": [],
   "source": [
    "canvas = np.zeros((1920,1080))\n",
    "\n",
    "for idx, row in tqdm(annotations.iterrows(), total=len(annotations)):\n",
    "    xmin = int(round(row['panorama_xmin']))\n",
    "    ymin = int(round(row['panorama_ymin']))\n",
    "    xmax = int(round(row['panorama_xmax']))\n",
    "    ymax = int(round(row['panorama_ymax']))\n",
    "\n",
    "    canvas[xmin:xmax, ymin:ymax] += 1"
   ]
  },
  {
   "cell_type": "code",
   "execution_count": null,
   "metadata": {},
   "outputs": [],
   "source": [
    "img = Image.open('panorama.jpeg')"
   ]
  },
  {
   "cell_type": "code",
   "execution_count": null,
   "metadata": {},
   "outputs": [],
   "source": [
    "fig = plt.figure(figsize=(16,9))\n",
    "plt.imshow(img)\n",
    "plt.imshow(canvas.T, alpha=0.8);"
   ]
  }
 ],
 "metadata": {
  "kernelspec": {
   "display_name": "traffic-signs",
   "language": "python",
   "name": "traffic-signs"
  },
  "language_info": {
   "codemirror_mode": {
    "name": "ipython",
    "version": 3
   },
   "file_extension": ".py",
   "mimetype": "text/x-python",
   "name": "python",
   "nbconvert_exporter": "python",
   "pygments_lexer": "ipython3",
   "version": "3.6.7"
  }
 },
 "nbformat": 4,
 "nbformat_minor": 2
}
